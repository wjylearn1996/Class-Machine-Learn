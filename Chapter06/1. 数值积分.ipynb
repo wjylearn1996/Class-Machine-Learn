{
 "cells": [
  {
   "cell_type": "markdown",
   "id": "205c7539-715e-4dc7-bece-c17892633ee6",
   "metadata": {},
   "source": [
    "# 数值积分\n",
    "---\n",
    "\n",
    "相对微分而言，积分的难度要大得多。虽然有很多可以用解析方法来计算和的积分，大部分情况下，我们需要使用数值的方法。\n",
    "\n",
    "连续函数以及有限积分域的积分在单一维度上可以有效计算，但是对于带奇点或无限积分域的可积函数，即使是一维数值积分也很困难。二维积分和多重积分可以通过重复一维积分来进行计算，但是计算量会随着维度上升急剧增长。高维积分需要使用蒙特卡罗采样算法等技术。\n",
    "\n",
    "除了进行数值计算外，积分还有很多其他同途：\n",
    "1. [积分方程](https://zh.m.wikipedia.org/zh/积分方程)（含有未知函数的积分进行运算的方程）经常在科学和工程中使用。积分方程一般很难求解，通常可以将它们离散化，然后转换为线性方程组。\n",
    "2. [积分变换](https://zh.m.wikipedia.org/zh/积分变换)，可用于不同域之间的函数和方程变换，例如傅里叶变换。"
   ]
  },
  {
   "cell_type": "markdown",
   "id": "32066ab2-0fcd-4c6e-a4d9-3713f3316057",
   "metadata": {},
   "source": [
    "## 导入模块\n",
    "---\n",
    "\n",
    "本部分我们将主要使用SciPy的integrate模块进行数值积分。针对高精度浮点运算的需要，我们也会搭配使用SymPy和[mpmath](https://mpmath.org/)进行任意精度积分。针对高维积分，我们将使用蒙特卡罗积分。"
   ]
  },
  {
   "cell_type": "code",
   "execution_count": null,
   "id": "3f508d4b-ce00-4d1c-b4d3-736f4305b402",
   "metadata": {},
   "outputs": [],
   "source": [
    "import matplotlib.pyplot as plt\n",
    "import matplotlib as mpl\n",
    "\n",
    "import numpy as np\n",
    "from scipy import integrate\n",
    "import sympy\n",
    "import mpmath"
   ]
  },
  {
   "cell_type": "code",
   "execution_count": null,
   "id": "2546371b-8946-430e-ad5f-e170b7d590b2",
   "metadata": {},
   "outputs": [],
   "source": []
  }
 ],
 "metadata": {
  "kernelspec": {
   "display_name": "Python 3 (ipykernel)",
   "language": "python",
   "name": "python3"
  },
  "language_info": {
   "codemirror_mode": {
    "name": "ipython",
    "version": 3
   },
   "file_extension": ".py",
   "mimetype": "text/x-python",
   "name": "python",
   "nbconvert_exporter": "python",
   "pygments_lexer": "ipython3",
   "version": "3.9.7"
  }
 },
 "nbformat": 4,
 "nbformat_minor": 5
}
